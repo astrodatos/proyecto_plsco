{
  "nbformat": 4,
  "nbformat_minor": 0,
  "metadata": {
    "colab": {
      "name": "fase1.ipynb",
      "version": "0.3.2",
      "provenance": [],
      "include_colab_link": true
    },
    "kernelspec": {
      "name": "python3",
      "display_name": "Python 3"
    }
  },
  "cells": [
    {
      "cell_type": "markdown",
      "metadata": {
        "id": "view-in-github",
        "colab_type": "text"
      },
      "source": [
        "<a href=\"https://colab.research.google.com/github/astrodatos/proyecto_plsco/blob/master/fase1.ipynb\" target=\"_parent\"><img src=\"https://colab.research.google.com/assets/colab-badge.svg\" alt=\"Open In Colab\"/></a>"
      ]
    },
    {
      "cell_type": "code",
      "metadata": {
        "id": "jBDvsxT0An2m",
        "colab_type": "code",
        "colab": {
          "base_uri": "https://localhost:8080/",
          "height": 92
        },
        "outputId": "5476d6c9-5e57-4d79-ceef-5918fd5f10bd"
      },
      "source": [
        "#!pip install astroquery \n",
        "import astropy.units as u\n",
        "from astropy.coordinates import SkyCoord\n",
        "from astroquery.gaia import Gaia\n",
        "from astroquery.sdss import SDSS"
      ],
      "execution_count": 4,
      "outputs": [
        {
          "output_type": "stream",
          "text": [
            "/usr/local/lib/python3.6/dist-packages/astroquery/sdss/__init__.py:29: UserWarning: Experimental: SDSS has not yet been refactored to have its API match the rest of astroquery (but it's nearly there).\n",
            "  warnings.warn(\"Experimental: SDSS has not yet been refactored to have its API \"\n"
          ],
          "name": "stderr"
        }
      ]
    }
  ]
}