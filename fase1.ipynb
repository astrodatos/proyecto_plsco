{
  "nbformat": 4,
  "nbformat_minor": 0,
  "metadata": {
    "colab": {
      "name": "fase1.ipynb",
      "version": "0.3.2",
      "provenance": [],
      "include_colab_link": true
    },
    "kernelspec": {
      "name": "python3",
      "display_name": "Python 3"
    }
  },
  "cells": [
    {
      "cell_type": "markdown",
      "metadata": {
        "id": "view-in-github",
        "colab_type": "text"
      },
      "source": [
        "<a href=\"https://colab.research.google.com/github/astrodatos/proyecto_plsco/blob/master/fase1.ipynb\" target=\"_parent\"><img src=\"https://colab.research.google.com/assets/colab-badge.svg\" alt=\"Open In Colab\"/></a>"
      ]
    },
    {
      "cell_type": "code",
      "metadata": {
        "id": "jBDvsxT0An2m",
        "colab_type": "code",
        "colab": {}
      },
      "source": [
        "#!pip install astroquery \n",
        "import astropy.units as u\n",
        "from astropy.coordinates import SkyCoord\n",
        "from astroquery.gaia import Gaia\n",
        "from astroquery.sdss import SDSS\n",
        "import pandas as pd\n",
        "from astropy.io import fits\n",
        "from astropy.wcs import WCS\n",
        "from astropy.utils.data import download_file\n"
      ],
      "execution_count": 0,
      "outputs": []
    },
    {
      "cell_type": "code",
      "metadata": {
        "id": "8_lQnNfN3srp",
        "colab_type": "code",
        "outputId": "798b0176-cdab-413f-ebd9-c4cec86666b7",
        "colab": {
          "base_uri": "https://localhost:8080/",
          "height": 51
        }
      },
      "source": [
        "import warnings\n",
        "warnings.filterwarnings(\"ignore\", module='astropy.io.votable.tree')\n",
        "archivo = download_file('https://github.com/astrodatos/Clase3/raw/master/planets.csv')\n",
        "data = pd.read_csv(archivo,comment='#')\n",
        "ra=data['ra']\n",
        "dec=data['dec']\n",
        "\n",
        "job = Gaia.launch_job_async(\"select top 100000 \\\n",
        "solution_id, ra, dec, lum_val, teff_val, radius_val \\\n",
        "from gaiadr2.gaia_source order by random_index\")"
      ],
      "execution_count": 72,
      "outputs": [
        {
          "output_type": "stream",
          "text": [
            "Downloading https://github.com/astrodatos/Clase3/raw/master/planets.csv [Done]\n",
            "Query finished.\n"
          ],
          "name": "stdout"
        }
      ]
    },
    {
      "cell_type": "code",
      "metadata": {
        "id": "f1IGxnu_6iQl",
        "colab_type": "code",
        "outputId": "6567a4fd-25a8-44ba-f1e9-260dbf7a06a7",
        "colab": {
          "base_uri": "https://localhost:8080/",
          "height": 34
        }
      },
      "source": [
        "r = job.get_results()\n",
        "results = r.to_pandas()\n",
        "table = results.dropna()\n",
        "table.shape\n"
      ],
      "execution_count": 73,
      "outputs": [
        {
          "output_type": "execute_result",
          "data": {
            "text/plain": [
              "(4618, 6)"
            ]
          },
          "metadata": {
            "tags": []
          },
          "execution_count": 73
        }
      ]
    }
  ]
}